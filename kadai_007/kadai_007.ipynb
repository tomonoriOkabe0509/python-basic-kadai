{
  "nbformat": 4,
  "nbformat_minor": 0,
  "metadata": {
    "colab": {
      "provenance": [],
      "gpuType": "T4"
    },
    "kernelspec": {
      "name": "python3",
      "display_name": "Python 3"
    },
    "language_info": {
      "name": "python"
    }
  },
  "cells": [
    {
      "cell_type": "markdown",
      "source": [],
      "metadata": {
        "id": "3BrudpPdG6Jr"
      }
    },
    {
      "cell_type": "code",
      "source": [
        "array=[\"月曜日は晴れです\",\"火曜日は雨です\",\"水曜日は晴れです\",\"木曜日は晴れです\",\"金曜日は曇りです\",\"土曜日は曇りのち雨です\",\"日曜日は雷雨です\",]\n",
        "print(array[2])"
      ],
      "metadata": {
        "colab": {
          "base_uri": "https://localhost:8080/"
        },
        "id": "9TT0PgrbmmEY",
        "outputId": "00ebd4b3-349b-42c9-dbf7-853b5f667980"
      },
      "execution_count": 2,
      "outputs": [
        {
          "output_type": "stream",
          "name": "stdout",
          "text": [
            "水曜日は晴れです\n"
          ]
        }
      ]
    },
    {
      "cell_type": "code",
      "source": [
        "dictionary={\"mon\":\"晴れ\",\"tue\":\"雨\",\"wed\":\"晴れ\",\"thu\":\"晴れ\",\"fri\":\"曇り\",\"sat\":\"曇りのち雨\",\"sun\":\"雷雨\"}\n",
        "print(dictionary[\"wed\"])"
      ],
      "metadata": {
        "colab": {
          "base_uri": "https://localhost:8080/"
        },
        "id": "SPDXpstjn7vf",
        "outputId": "549586f3-c32d-4101-d3ad-1a45200efdf2"
      },
      "execution_count": 5,
      "outputs": [
        {
          "output_type": "stream",
          "name": "stdout",
          "text": [
            "晴れ\n"
          ]
        }
      ]
    }
  ]
}