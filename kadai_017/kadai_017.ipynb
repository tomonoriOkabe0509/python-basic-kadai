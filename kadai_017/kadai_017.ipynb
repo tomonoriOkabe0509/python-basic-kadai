{
  "nbformat": 4,
  "nbformat_minor": 0,
  "metadata": {
    "colab": {
      "provenance": []
    },
    "kernelspec": {
      "name": "python3",
      "display_name": "Python 3"
    },
    "language_info": {
      "name": "python"
    }
  },
  "cells": [
    {
      "cell_type": "code",
      "execution_count": 27,
      "metadata": {
        "colab": {
          "base_uri": "https://localhost:8080/"
        },
        "id": "1KG12Kl3kVbg",
        "outputId": "2f3a1721-aaf6-4a72-f062-00f602b42256"
      },
      "outputs": [
        {
          "output_type": "stream",
          "name": "stdout",
          "text": [
            "rio is not an adult\n",
            "taichi is not an adult\n",
            "tomonori is an adult\n"
          ]
        }
      ],
      "source": [
        "class Human:\n",
        "  def __init__(self,name,age):\n",
        "      self.name=name\n",
        "      self.age=age\n",
        "\n",
        "  def check_adult(self):\n",
        "      if self.age >= 20:\n",
        "         print(f\"{self.name} is an adult\")\n",
        "      else:\n",
        "         print(f\"{self.name} is not an adult\")\n",
        "\n",
        "humans = [Human(\"rio\",5),Human(\"taichi\",8),Human(\"tomonori\",37)]\n",
        "for human in humans:\n",
        "     human.check_adult()"
      ]
    }
  ]
}