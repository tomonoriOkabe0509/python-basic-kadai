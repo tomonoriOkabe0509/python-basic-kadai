{
  "nbformat": 4,
  "nbformat_minor": 0,
  "metadata": {
    "colab": {
      "provenance": []
    },
    "kernelspec": {
      "name": "python3",
      "display_name": "Python 3"
    },
    "language_info": {
      "name": "python"
    }
  },
  "cells": [
    {
      "cell_type": "code",
      "execution_count": 2,
      "metadata": {
        "id": "jph2SIUZCi9k",
        "colab": {
          "base_uri": "https://localhost:8080/"
        },
        "outputId": "c3e2721e-f159-4380-ab13-7ceb12cde906"
      },
      "outputs": [
        {
          "output_type": "stream",
          "name": "stdout",
          "text": [
            "330.0\n"
          ]
        }
      ],
      "source": [
        "price1=100\n",
        "price2=200\n",
        "tax=1.1\n",
        "def total():\n",
        "    return price1+price2\n",
        "print(total()*tax)"
      ]
    }
  ]
}