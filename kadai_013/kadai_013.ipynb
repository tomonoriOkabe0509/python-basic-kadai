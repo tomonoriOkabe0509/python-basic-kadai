{
  "nbformat": 4,
  "nbformat_minor": 0,
  "metadata": {
    "colab": {
      "provenance": []
    },
    "kernelspec": {
      "name": "python3",
      "display_name": "Python 3"
    },
    "language_info": {
      "name": "python"
    }
  },
  "cells": [
    {
      "cell_type": "code",
      "source": [
        "def pirce_inculuding_comdsumpution_tax(price,tax):\n",
        "     return price+tax\n",
        "print(pirce_inculuding_comdsumpution_tax(100,10))"
      ],
      "metadata": {
        "colab": {
          "base_uri": "https://localhost:8080/"
        },
        "id": "RO4U5Gau5pt4",
        "outputId": "feeea7c3-027d-481e-cded-f76793783154"
      },
      "execution_count": 12,
      "outputs": [
        {
          "output_type": "stream",
          "name": "stdout",
          "text": [
            "110\n"
          ]
        }
      ]
    }
  ]
}