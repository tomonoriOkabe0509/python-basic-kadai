{
  "nbformat": 4,
  "nbformat_minor": 0,
  "metadata": {
    "colab": {
      "provenance": []
    },
    "kernelspec": {
      "name": "python3",
      "display_name": "Python 3"
    },
    "language_info": {
      "name": "python"
    }
  },
  "cells": [
    {
      "cell_type": "code",
      "source": [
        "def price_includes_consumption_tax(price,tax):\n",
        "     return price+price*tax/100\n",
        "print(price_includes_consumption_tax(200,10))"
      ],
      "metadata": {
        "colab": {
          "base_uri": "https://localhost:8080/"
        },
        "id": "RO4U5Gau5pt4",
        "outputId": "60ede281-0b56-46c6-e14e-ba9677387491"
      },
      "execution_count": 17,
      "outputs": [
        {
          "output_type": "stream",
          "name": "stdout",
          "text": [
            "220.0\n"
          ]
        }
      ]
    }
  ]
}