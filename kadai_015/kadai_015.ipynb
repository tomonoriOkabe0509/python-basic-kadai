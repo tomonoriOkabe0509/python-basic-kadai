{
  "nbformat": 4,
  "nbformat_minor": 0,
  "metadata": {
    "colab": {
      "provenance": []
    },
    "kernelspec": {
      "name": "python3",
      "display_name": "Python 3"
    },
    "language_info": {
      "name": "python"
    }
  },
  "cells": [
    {
      "cell_type": "code",
      "source": [
        "class Human :\n",
        "    def __init__ (self,name,age):\n",
        "          self.name=name\n",
        "          self.age=age\n",
        "    def printinfo (self):\n",
        "        print(f\"{self.name} {self.age}\")\n",
        "human =Human( \"rio\",5)\n",
        "human.printinfo()\n",
        "\n",
        "\n",
        "\n",
        "\n",
        "\n",
        "\n"
      ],
      "metadata": {
        "colab": {
          "base_uri": "https://localhost:8080/"
        },
        "id": "m00J6BqvqJF6",
        "outputId": "cdbe3985-2758-45fd-e7a1-bae3cc3eb9d6"
      },
      "execution_count": 47,
      "outputs": [
        {
          "output_type": "stream",
          "name": "stdout",
          "text": [
            "rio 5\n"
          ]
        }
      ]
    },
    {
      "cell_type": "markdown",
      "source": [],
      "metadata": {
        "id": "T9lchJThTrtl"
      }
    },
    {
      "cell_type": "code",
      "source": [],
      "metadata": {
        "id": "apWClDklTDrd"
      },
      "execution_count": null,
      "outputs": []
    }
  ]
}